{
 "cells": [
  {
   "cell_type": "markdown",
   "metadata": {},
   "source": [
    "# 서버와 동일한 VitalDB 데이터 다운로드 받는 법"
   ]
  },
  {
   "cell_type": "markdown",
   "metadata": {
    "id": "28r7dIbrk3zy"
   },
   "source": [
    "VitalDB 데이터 셋 이용\n",
    "본 예제에서는 오픈 생체 신호 데이터셋인 VitalDB를 이용하는 모든 사용자는 반드시 아래 Data Use Agreement에 동의하여야 합니다.\n",
    "\n",
    "https://vitaldb.net/data-bank/?query=guide&documentId=13qqajnNZzkN7NZ9aXnaQ-47NWy7kx-a6gbrcEsi-gak&sectionId=h.usmoena3l4rb\n",
    "\n",
    "동의하지 않을 경우 이 창을 닫으세요."
   ]
  },
  {
   "cell_type": "code",
   "execution_count": 1,
   "metadata": {
    "colab": {
     "base_uri": "https://localhost:8080/"
    },
    "id": "itmAOZ9k03ii",
    "outputId": "e9a01b52-db4a-4a8c-e721-0a6ce50b4f45"
   },
   "outputs": [
    {
     "name": "stdout",
     "output_type": "stream",
     "text": [
      "--2021-08-03 11:17:57--  https://raw.githubusercontent.com/vitaldb/vitalutils/master/python/vitaldb.py\n",
      "Resolving raw.githubusercontent.com (raw.githubusercontent.com)... 185.199.111.133, 185.199.109.133, 185.199.108.133, ...\n",
      "Connecting to raw.githubusercontent.com (raw.githubusercontent.com)|185.199.111.133|:443... connected.\n",
      "HTTP request sent, awaiting response... 200 OK\n",
      "Length: 19412 (19K) [text/plain]\n",
      "Saving to: ‘vitaldb.py’\n",
      "\n",
      "vitaldb.py          100%[===================>]  18.96K  --.-KB/s    in 0.005s  \n",
      "\n",
      "Last-modified header missing -- time-stamps turned off.\n",
      "2021-08-03 11:17:57 (3.85 MB/s) - ‘vitaldb.py’ saved [19412/19412]\n",
      "\n"
     ]
    }
   ],
   "source": [
    "# vitalDB에서 다운로드 받기위해 필요한 파일\n",
    "!wget -N https://raw.githubusercontent.com/vitaldb/vitalutils/master/python/vitaldb.py"
   ]
  },
  {
   "cell_type": "code",
   "execution_count": 2,
   "metadata": {
    "id": "4HZZf1zY0JG-"
   },
   "outputs": [],
   "source": [
    "import os\n",
    "import sys\n",
    "import numpy as np\n",
    "import pandas as pd\n",
    "import vitaldb\n",
    "from tqdm import tqdm"
   ]
  },
  {
   "cell_type": "code",
   "execution_count": 3,
   "metadata": {
    "colab": {
     "base_uri": "https://localhost:8080/"
    },
    "id": "I_wyOgcC1Da-",
    "outputId": "381db352-2056-4d0f-f65b-9c8a04be9cf0"
   },
   "outputs": [
    {
     "name": "stdout",
     "output_type": "stream",
     "text": [
      "total case:  5510\n"
     ]
    }
   ],
   "source": [
    "# VitalDB Web API를 통해 데이터 로딩\n",
    "df_trks = pd.read_csv('https://api.vitaldb.net/trks')\n",
    "df_cases = pd.read_csv(\"https://api.vitaldb.net/cases\")\n",
    "df_cases['sex'] = (df_cases['sex'] == 'F').astype(int)  # female은 1으로, male 은 0으로 치환\n",
    "\n",
    "# BIS, EEG1_WAV, EEG2_WAV, SEF, SQI 파일이 모두 존재하고 18세 이상인 피험자 ID 추출\n",
    "caseids = list(set(df_trks[df_trks['tname'] == 'BIS/BIS']['caseid']) & \\\n",
    "set(df_trks[df_trks['tname'] == 'BIS/EEG1_WAV']['caseid']) & \\\n",
    "set(df_trks[df_trks['tname'] == 'BIS/EEG2_WAV']['caseid']) & \\\n",
    "set(df_trks[df_trks['tname'] == 'BIS/SEF']['caseid']) & \\\n",
    "set(df_trks[df_trks['tname'] == 'BIS/SQI']['caseid']) & \\\n",
    "set(df_cases[df_cases['age'] > 18]['caseid']))\n",
    "\n",
    "print('total case: ', len(caseids))"
   ]
  },
  {
   "cell_type": "code",
   "execution_count": 4,
   "metadata": {
    "id": "MwXJlqrZ1UaG"
   },
   "outputs": [],
   "source": [
    "tnames = ['BIS/BIS', 'BIS/SQI', 'BIS/EEG1_WAV'] # 추출할 파라미터\n",
    "interval = 1/100  # 100Hz\n",
    "\n",
    "# 랜덤으로 선택한 5510명 중 1000명의 리스트\n",
    "list_caseID = pd.read_csv('selectedCaseIDs.csv',header=None)"
   ]
  },
  {
   "cell_type": "code",
   "execution_count": 5,
   "metadata": {
    "colab": {
     "base_uri": "https://localhost:8080/"
    },
    "id": "rWvjjkjsoMe0",
    "outputId": "0d08adb6-485f-445e-da03-6ef2dd2b77a9"
   },
   "outputs": [
    {
     "name": "stderr",
     "output_type": "stream",
     "text": [
      "100%|██████████| 1000/1000 [12:20<00:00,  1.35it/s]\n"
     ]
    }
   ],
   "source": [
    "SAVEPATH = '../data/vitaldb/raw'\n",
    "\n",
    "# SAVEPATH가 없을 시 폴더 생성\n",
    "try:\n",
    "    os.makedirs(SAVEPATH)\n",
    "except OSError as exc:\n",
    "    print('error')\n",
    "    # if exc.errno != errno.EEXIST:\n",
    "    #     raise\n",
    "    pass\n",
    "\n",
    "for idx, sbjID in enumerate(tqdm(list_caseID.to_numpy())):\n",
    "#     if a == 10: break   # 10명만 다운받음. 이 줄 주석처리하면 리스트에 적힌 1000명 다운로드\n",
    "    vals = vitaldb.load_case(tnames, sbjID[0], interval)    # vitalDB에서 다운로드\n",
    "    np.save(os.path.join(SAVEPATH, f'{idx}.npy'), vals)     # SAVEPATH에 저장"
   ]
  },
  {
   "cell_type": "code",
   "execution_count": null,
   "metadata": {
    "id": "KlYstARMSnVC"
   },
   "outputs": [],
   "source": []
  }
 ],
 "metadata": {
  "colab": {
   "collapsed_sections": [],
   "name": "Untitled6.ipynb",
   "provenance": []
  },
  "kernelspec": {
   "display_name": "Python 3",
   "language": "python",
   "name": "python3"
  },
  "language_info": {
   "codemirror_mode": {
    "name": "ipython",
    "version": 3
   },
   "file_extension": ".py",
   "mimetype": "text/x-python",
   "name": "python",
   "nbconvert_exporter": "python",
   "pygments_lexer": "ipython3",
   "version": "3.9.4"
  }
 },
 "nbformat": 4,
 "nbformat_minor": 2
}
