{
 "cells": [
  {
   "cell_type": "markdown",
   "id": "245378fd-0eef-4c5d-a9a3-b6a81a9f0eaf",
   "metadata": {},
   "source": [
    "## Preprocessing\n",
    "1. 30초의 EEG(3000샘플)의 데이터에 25초 뒤의 BIS값을 대응되도록 만든다.\n",
    "2. 이때 BIS값과 동일한 시점의 SQI > threshold 인 구간만 선택한다. (예: SQI > 90)\n",
    "3. (옵션) 마취시작 30분 이후의 데이터만 선택한다.\n",
    "4. 불균형하게 존재하는 BIS 값들을 일정하게 존재하도록 랜덤 샘플링한다."
   ]
  },
  {
   "cell_type": "code",
   "execution_count": 1,
   "id": "7d8d9478-ebc2-4b25-9772-617cdc4c08cd",
   "metadata": {},
   "outputs": [],
   "source": [
    "import os, glob\n",
    "import numpy as np\n",
    "import pandas as pd\n",
    "from tqdm import tqdm\n",
    "\n",
    "import matplotlib.pyplot as plt\n",
    "\n",
    "import multiprocessing\n",
    "from functools import partial \n",
    "import time\n",
    "\n",
    "from jk import preprocessing\n"
   ]
  },
  {
   "cell_type": "code",
   "execution_count": null,
   "id": "4d9830b4-5ad5-46b4-8a9b-2a2ed485f8bf",
   "metadata": {},
   "outputs": [],
   "source": []
  },
  {
   "cell_type": "code",
   "execution_count": 6,
   "id": "7a4e7366-d72c-469f-a191-c0e96ac59428",
   "metadata": {},
   "outputs": [],
   "source": [
    "PATH = r'../data/vitaldb/raw/*.npy'\n",
    "file_path_li = glob.glob(PATH)\n",
    "train_path_li = file_path_li[:700]\n",
    "test_path_li = file_path_li[700:900]\n",
    "val_path_li = file_path_li[900:]\n",
    "# file_path_li"
   ]
  },
  {
   "cell_type": "code",
   "execution_count": 7,
   "id": "52a283b9-2ed3-4a15-8782-f7d33a15a73f",
   "metadata": {},
   "outputs": [],
   "source": [
    "# for file in file_li:\n",
    "#     arr = np.load(os.path.join(PATH, file))    \n",
    "#     print(arr.shape)\n",
    "#     df = pd.DataFrame(arr, columns=['BIS', 'SQI', 'EEG'])\n",
    "#     print(df.isnull().sum())\n",
    "#     print(\"=\"*20)\n",
    "#     df['EEG'].fillna(method='ffill', inplace=True)\n",
    "#     df['EEG'].fillna(method='bfill', inplace=True)    \n",
    "#     #df['EEG'].fillna(10, inplace=True)\n",
    "#     print(df.isnull().sum())"
   ]
  },
  {
   "cell_type": "code",
   "execution_count": 8,
   "id": "06af7a1d-f349-4323-a813-fa45ed749b6c",
   "metadata": {},
   "outputs": [
    {
     "name": "stdout",
     "output_type": "stream",
     "text": [
      "(1153701, 3)\n"
     ]
    },
    {
     "data": {
      "image/png": "[encoded data removed]",
      "text/plain": [
       "<Figure size 720x720 with 1 Axes>"
      ]
     },
     "metadata": {
      "needs_background": "light"
     },
     "output_type": "display_data"
    }
   ],
   "source": [
    "arr = np.load(file_path_li[80])    \n",
    "print(arr.shape)\n",
    "df = pd.DataFrame(arr, columns=['BIS', 'SQI', 'EEG'])\n",
    "fig, ax = plt.subplots(1, 1, figsize=(10,10))\n",
    "ax.plot(df[\"EEG\"])\n",
    "#ax.legend()\n",
    "ax.grid\n",
    "plt.show()"
   ]
  },
  {
   "cell_type": "code",
   "execution_count": 9,
   "id": "27df35e0-f110-44e6-9179-e973c05da8a5",
   "metadata": {},
   "outputs": [],
   "source": [
    "def getDataset(file_path_li):\n",
    "    # row : Time  |  columns : ['BIS/BIS', 'BIS/SQI', 'BIS/EEG1_WAV'] \n",
    "    EEG_li = []\n",
    "    BIS_li = []\n",
    "    # EEG_data = []\n",
    "    # BIS_data = []\n",
    "\n",
    "    for i, file_path in enumerate(tqdm(file_path_li)):  \n",
    "        arr = np.load( file_path )    \n",
    "        df = pd.DataFrame(arr, columns=['BIS', 'SQI', 'EEG'])    \n",
    "#         df['EEG'].fillna(method='ffill', inplace=True)\n",
    "#         df['EEG'].fillna(method='bfill', inplace=True)    \n",
    "        df['Time'] = np.arange(df.shape[0])/100\n",
    "#         print(str(i) + \" \" + file)    \n",
    "#         print(df.isnull().sum())    \n",
    "#         if(df['EEG'].isnull().sum()>0):\n",
    "#             print(file + \" Warning!!!! \" + str(df['EEG'].isnull().sum())    )\n",
    "#             continue\n",
    "        BIS_indices = df[ (df['BIS'].notnull()) & (df['Time']>=1800.0) & (df['SQI']>90.0) ].index    \n",
    "\n",
    "        for j, index in enumerate(BIS_indices):    \n",
    "            EEG = df['EEG'].to_numpy()[1+index-55*100:1+index-25*100]                        \n",
    "            BIS = df['BIS'].to_numpy()[index]\n",
    "            if np.isnan(EEG).sum()>0:\n",
    "#                 print(str(i) +' '+ str(index) + \"EEG has nan.\" + str(np.isnan(EEG).sum()) )\n",
    "                continue\n",
    "            EEG_li.append(EEG.reshape(30*100, 1))\n",
    "            BIS_li.append([BIS])\n",
    "\n",
    "    #         if i==0 and j==0:\n",
    "    #             EEG_data = EEG.reshape(1, 30*100, 1)\n",
    "    #             BIS_data = np.array(BIS).reshape(1, 1)\n",
    "    #         else:\n",
    "    #             EEG_data = np.concatenate( (EEG_data, EEG.reshape(1, 30*100, 1)), axis=0)\n",
    "    #             BIS_data = np.concatenate( (BIS_data, np.array(BIS).reshape(1, 1)), axis=0)\n",
    "\n",
    "    #     print(df.shape)\n",
    "    return  np.array(EEG_li), np.array(BIS_li) "
   ]
  },
  {
   "cell_type": "code",
   "execution_count": 11,
   "id": "90e93e0b-6983-4236-b348-0af45be1291e",
   "metadata": {},
   "outputs": [
    {
     "name": "stderr",
     "output_type": "stream",
     "text": [
      "100%|████████████████████████████████████████████████████████████████████████████████| 700/700 [04:48<00:00,  2.42it/s]\n"
     ]
    },
    {
     "name": "stdout",
     "output_type": "stream",
     "text": [
      "(3591581, 3000, 1)\n",
      "(3591581, 1)\n",
      "==================================================\n"
     ]
    },
    {
     "name": "stderr",
     "output_type": "stream",
     "text": [
      "100%|████████████████████████████████████████████████████████████████████████████████| 200/200 [01:17<00:00,  2.58it/s]\n"
     ]
    },
    {
     "name": "stdout",
     "output_type": "stream",
     "text": [
      "(1114954, 3000, 1)\n",
      "(1114954, 1)\n",
      "==================================================\n"
     ]
    },
    {
     "name": "stderr",
     "output_type": "stream",
     "text": [
      "100%|████████████████████████████████████████████████████████████████████████████████| 100/100 [00:42<00:00,  2.36it/s]\n"
     ]
    },
    {
     "name": "stdout",
     "output_type": "stream",
     "text": [
      "(506962, 3000, 1)\n",
      "(506962, 1)\n",
      "==================================================\n"
     ]
    }
   ],
   "source": [
    "save_path = \"../data/vitaldb\"\n",
    "\n",
    "EEG, BIS = getDataset(train_path_li)\n",
    "print(EEG.shape)\n",
    "print(BIS.shape)\n",
    "np.save(os.path.join(save_path, 'TrainEEG.npy'), EEG)\n",
    "np.save(os.path.join(save_path, 'TrainBIS.npy'), BIS)\n",
    "EEG = []\n",
    "BIS = []\n",
    "print(\"=\"*50)\n",
    "\n",
    "EEG, BIS = getDataset(test_path_li)\n",
    "print(EEG.shape)\n",
    "print(BIS.shape)\n",
    "np.save(os.path.join(save_path, 'TestEEG.npy'), EEG)\n",
    "np.save(os.path.join(save_path, 'TestBIS.npy'), BIS)\n",
    "EEG = []\n",
    "BIS = []\n",
    "print(\"=\"*50)\n",
    "\n",
    "EEG, BIS = getDataset(val_path_li)\n",
    "print(EEG.shape)\n",
    "print(BIS.shape)\n",
    "np.save(os.path.join(save_path, 'ValEEG.npy'), EEG)\n",
    "np.save(os.path.join(save_path, 'ValBIS.npy'), BIS)\n",
    "EEG = []\n",
    "BIS = []\n",
    "print(\"=\"*50)"
   ]
  }
 ],
 "metadata": {
  "kernelspec": {
   "display_name": "Python 3",
   "language": "python",
   "name": "python3"
  },
  "language_info": {
   "codemirror_mode": {
    "name": "ipython",
    "version": 3
   },
   "file_extension": ".py",
   "mimetype": "text/x-python",
   "name": "python",
   "nbconvert_exporter": "python",
   "pygments_lexer": "ipython3",
   "version": "3.8.10"
  }
 },
 "nbformat": 4,
 "nbformat_minor": 5
}
